{
  "nbformat": 4,
  "nbformat_minor": 0,
  "metadata": {
    "colab": {
      "name": "IntroOpenCV.ipynb",
      "private_outputs": true,
      "provenance": [],
      "collapsed_sections": [],
      "toc_visible": true,
      "authorship_tag": "ABX9TyPRbb5SE14pcHFuPWKy8X4W",
      "include_colab_link": true
    },
    "kernelspec": {
      "name": "python3",
      "display_name": "Python 3"
    },
    "language_info": {
      "name": "python"
    }
  },
  "cells": [
    {
      "cell_type": "markdown",
      "metadata": {
        "id": "view-in-github",
        "colab_type": "text"
      },
      "source": [
        "<a href=\"https://colab.research.google.com/github/robotics-upo/rva-course-material/blob/master/imageprocessingbasics/IntroOpenCV.ipynb\" target=\"_parent\"><img src=\"https://colab.research.google.com/assets/colab-badge.svg\" alt=\"Open In Colab\"/></a>"
      ]
    },
    {
      "cell_type": "markdown",
      "metadata": {
        "id": "hBzUlaLPGqy2"
      },
      "source": [
        "# Introduction to OpenCV\n",
        "\n",
        "In this lab session we will use the following tools:\n",
        "\n",
        "*   **OpenCV**: http://opencv.org\n",
        "*   **Numpy**, for handling multidimensional arrays (like images): https://numpy.org/\n",
        "*   **Matplotlib**, library for visualization in python: https://matplotlib.org/\n",
        "\n",
        "We will use the 3.x version of OpenCV’s API. We will intensively refer to the documentation (https://opencv-python-tutroals.readthedocs.io/en/latest/index.html)\n",
        "\n",
        "We will create here a first Computer Vision program using OpenCV. OpenCV is a third-party library, independent of ROS (although the development teams of both are related).\n",
        "\n",
        "We will learn in next lab sessions how to use OpenCV within a ROS node."
      ]
    },
    {
      "cell_type": "code",
      "metadata": {
        "id": "EpNM2gNNGcZ3"
      },
      "source": [
        "#OpenCV module\n",
        "import cv2\n",
        "\n",
        "#Numpy module\n",
        "import numpy as np\n",
        "\n",
        "#We can use OpenCV in Colab, but not its functions for creating plots\n",
        "#We use matplotlib for generating plots\n",
        "from matplotlib import pyplot as plt\n"
      ],
      "execution_count": null,
      "outputs": []
    },
    {
      "cell_type": "markdown",
      "metadata": {
        "id": "QFc6j4XvTZgN"
      },
      "source": [
        "# Basic image input/ouput\n",
        "\n",
        "In the following, we show some simple functions to read images and show them"
      ]
    },
    {
      "cell_type": "code",
      "metadata": {
        "id": "3sXvFic4NM06"
      },
      "source": [
        "#We use the library scikit to read images from url \n",
        "#In OpenCV, the function to read from file is cv2.imread\n",
        "from skimage import io\n",
        "\n",
        "#imread from skimage returns the color image as RGB. In OpenCV, the image is\n",
        "#returned as BGR\n",
        "im = io.imread('https://robotics.upo.es/~lmercab/rva/croma.jpg')\n",
        "\n",
        "#Show image\n",
        "plt.imshow(im)\n"
      ],
      "execution_count": null,
      "outputs": []
    },
    {
      "cell_type": "markdown",
      "metadata": {
        "id": "IHq6HTGKKlGT"
      },
      "source": [
        "Remember that the basic data type that we will use from OpenCV are **numpy** arrays, which represents a multi-dimensional matrix.\n",
        "\n",
        "https://opencv-python-tutroals.readthedocs.io/en/latest/py_tutorials/py_core/py_basic_ops/py_basic_ops.html#basic-ops \n"
      ]
    },
    {
      "cell_type": "code",
      "metadata": {
        "id": "eoLUOXooTsSI"
      },
      "source": [
        "#Images are Numpy Arrays. All operations on them can be used here\n",
        "#Dimensions of image\n",
        "print(\"Image dimensions: \", im.shape)\n",
        "\n",
        "#Type of pixels\n",
        "print(\"Pixel type: \", im.dtype)\n",
        "\n",
        "#Accesing individual pixels (not efficient):\n",
        "print(\"Color of pixel at row 200, col 100: \", im[200,100])\n",
        "print(\"Blue field for that pixel: \", im[200,100,2])\n"
      ],
      "execution_count": null,
      "outputs": []
    },
    {
      "cell_type": "markdown",
      "metadata": {
        "id": "GmaLdT_dVv7l"
      },
      "source": [
        "# Basic color operations\n",
        "The color images are represented by matrixes with 3 dimensions, in which the third dimension stores the color channel\n",
        "\n",
        "We can use different color spaces. The most typical is Red-Green-Blue. But we can also consider other color spaces, as explained in theory\n",
        "\n",
        "Also, we will work sometimes with greyscale images and with binary images.\n",
        "\n",
        "*   Changing colour spaces in OpenCV:\n",
        "  * https://opencv-python-tutroals.readthedocs.io/en/latest/py_tutorials/py_imgproc/py_colorspaces/py_colorspaces.html\n",
        "\n",
        "\n"
      ]
    },
    {
      "cell_type": "code",
      "metadata": {
        "id": "vnIdPLhjYEgi"
      },
      "source": [
        "#Convert to Grayscale image \n",
        "im_gray = cv2.cvtColor(im, cv2.COLOR_RGB2GRAY)\n",
        "plt.imshow(im_gray,cmap=plt.cm.gray)\n",
        "\n",
        "#Dimensions of image\n",
        "print(im_gray.shape)\n",
        "\n",
        "#Type of pixels\n",
        "print(im_gray.dtype)\n",
        "\n"
      ],
      "execution_count": null,
      "outputs": []
    },
    {
      "cell_type": "code",
      "metadata": {
        "id": "XrAvPU1mhDYF"
      },
      "source": [
        "#Work with color channels\n",
        "#As mentioned before, we read the images in RGB space as stored as R, G and B in\n",
        "#the third dimension\n",
        "#IMPORTANT: if you use OpenCV's imread, then the order is BGR\n",
        "r=im[:,:,0]\n",
        "g=im[:,:,1]\n",
        "b=im[:,:,2]\n",
        "\n",
        "plt.figure(figsize=(10,10))\n",
        "ax = plt.subplot(1, 3, 1)\n",
        "plt.imshow(r,cmap=plt.cm.gray)\n",
        "plt.title('Red Channel')\n",
        "ax = plt.subplot(1, 3, 2)\n",
        "plt.imshow(g,cmap=plt.cm.gray)\n",
        "plt.title('Green Channel')\n",
        "ax = plt.subplot(1, 3, 3)\n",
        "plt.imshow(b,cmap=plt.cm.gray)\n",
        "plt.title('Blue Channel')"
      ],
      "execution_count": null,
      "outputs": []
    },
    {
      "cell_type": "code",
      "metadata": {
        "id": "0ffqZQGpiL8B"
      },
      "source": [
        "#Alternative color spaces\n",
        "#Conversion to HSV\n",
        "im_hsv = cv2.cvtColor(im, cv2.COLOR_RGB2HSV)\n",
        "#Dimensions of image\n",
        "print(im_hsv.shape)\n",
        "\n",
        "h=im_hsv[:,:,0]\n",
        "s=im_hsv[:,:,1]\n",
        "v=im_hsv[:,:,2]\n",
        "\n",
        "plt.figure(figsize=(10,10))\n",
        "ax = plt.subplot(1, 3, 1)\n",
        "plt.imshow(h,cmap=plt.cm.gray)\n",
        "plt.title('Hue Channel')\n",
        "ax = plt.subplot(1, 3, 2)\n",
        "plt.imshow(s,cmap=plt.cm.gray)\n",
        "plt.title('Saturation Channel')\n",
        "ax = plt.subplot(1, 3, 3)\n",
        "plt.imshow(v,cmap=plt.cm.gray)\n",
        "plt.title('Value Channel')\n",
        "\n"
      ],
      "execution_count": null,
      "outputs": []
    },
    {
      "cell_type": "markdown",
      "metadata": {
        "id": "WTri8-EXkRuB"
      },
      "source": [
        "# Basic pixel operations\n",
        "Pixel-based operations depend only on the value of a particular pixel.\n",
        "\n",
        "One of the simplest operations is thresholding, which typically transforms an input image into a **binary** image: that is, an image that only stores black and white pixels (represented as 0 and 255).\n",
        "\n",
        "*   Thresholding\n",
        "  * http://docs.opencv.org/modules/imgproc/doc/miscellaneous_transformations.html#threshold\n",
        "  * https://opencv-python-tutroals.readthedocs.io/en/latest/py_tutorials/py_imgproc/py_thresholding/py_thresholding.html \n",
        "\n",
        "**TODO**: Play with the value of the threshold, currently at 150"
      ]
    },
    {
      "cell_type": "code",
      "metadata": {
        "id": "2JXqHzprka87"
      },
      "source": [
        "#Basic Operations: Thresholding\n",
        "ret,thresh1 = cv2.threshold(g,150,255,cv2.THRESH_BINARY)\n",
        "print(\"Pixel \", thresh1[200,100])\n",
        "\t\n",
        "plt.figure()  \n",
        "plt.imshow(thresh1,plt.cm.gray)\n",
        "plt.title('Green Thresholded')\n",
        "\n",
        "#Different thresholding options\n",
        "ret,thresh2 = cv2.threshold(g,150,255,cv2.THRESH_BINARY_INV)\n",
        "ret,thresh3 = cv2.threshold(g,150,255,cv2.THRESH_TRUNC)\n",
        "ret,thresh4 = cv2.threshold(g,150,255,cv2.THRESH_TOZERO)\n",
        "\n",
        "plt.figure(figsize=(14,14))\n",
        "plt.subplot(1, 4, 1)\n",
        "plt.imshow(thresh1,cmap=plt.cm.gray)\n",
        "plt.title('BINARY')\n",
        "plt.subplot(1, 4, 2)\n",
        "plt.imshow(thresh2,cmap=plt.cm.gray)\n",
        "plt.title('BINARY_INV')\n",
        "plt.subplot(1, 4, 3)\n",
        "plt.imshow(thresh3,cmap=plt.cm.gray)\n",
        "plt.title('TRUNC')\n",
        "plt.subplot(1, 4, 4)\n",
        "plt.imshow(thresh4,cmap=plt.cm.gray)\n",
        "plt.title('TOZERO')"
      ],
      "execution_count": null,
      "outputs": []
    },
    {
      "cell_type": "markdown",
      "metadata": {
        "id": "ecCmsjn8d-8I"
      },
      "source": [
        "It is possible to operate with pairs of images pixel by pixel, usign arithmentic and binary operators\n",
        "\n",
        "\n",
        "*   Arithmetic and bit-wise operations\n",
        "    *   https://opencv-python-tutroals.readthedocs.io/en/latest/py_tutorials/py_core/py_image_arithmetics/py_image_arithmetics.html\n",
        "\n",
        "\n"
      ]
    },
    {
      "cell_type": "code",
      "metadata": {
        "id": "GGy3zlJ1eP-a"
      },
      "source": [
        "#Binary bit-wise operations\n",
        "mask_inv = cv2.bitwise_not(thresh1)\n",
        "plt.figure()  \n",
        "plt.imshow(mask_inv,plt.cm.gray)\n",
        "plt.title('Binary Inverted')\n",
        "\n",
        "# Now black-out the area of croma\n",
        "img1_fg = cv2.bitwise_and(im,im,mask=mask_inv)\n",
        "plt.figure()  \n",
        "plt.imshow(img1_fg)\n"
      ],
      "execution_count": null,
      "outputs": []
    },
    {
      "cell_type": "markdown",
      "metadata": {
        "id": "0qSgT-PeoQ3Y"
      },
      "source": [
        "We can use the former operations to mixed two images using a chroma key"
      ]
    },
    {
      "cell_type": "code",
      "metadata": {
        "id": "mjbQB9deoPyw"
      },
      "source": [
        "bg = io.imread('https://robotics.upo.es/~lmercab/rva/background.jpg')\n",
        "\n",
        "plt.figure()  \n",
        "plt.imshow(bg)\n",
        "\n",
        "img2_bg = cv2.bitwise_and(bg,bg,mask = thresh1)\n",
        "\n",
        "result = cv2.add(img1_fg,img2_bg)\n",
        "plt.figure()  \n",
        "plt.imshow(result)"
      ],
      "execution_count": null,
      "outputs": []
    },
    {
      "cell_type": "markdown",
      "metadata": {
        "id": "pAC5x7asl4gD"
      },
      "source": [
        "# Region-based operations with binary images\n",
        "\n",
        "In region-based operations, the value of the output pixel depends on the values of the pixels on a region surrounding the input pixel of interest.\n",
        "\n",
        "For binary images, two common operations are erosion and dilation. See the material in the slides for more information:\n",
        "\n",
        "* Erosion and dilation:\n",
        "  * https://opencv-python-tutroals.readthedocs.io/en/latest/py_tutorials/py_imgproc/py_morphological_ops/py_morphological_ops.html#morphological-ops\n",
        "\n",
        "**TODO**: Play with the kernel size and the iterations in the operations"
      ]
    },
    {
      "cell_type": "code",
      "metadata": {
        "id": "iq2MPasNpPWl"
      },
      "source": [
        "#Erosion and dilation \n",
        "kernel = np.ones((5,5),np.uint8)\n",
        "\n",
        "thresh2_eroded = cv2.erode(thresh2,kernel,iterations = 1)\n",
        "thresh2_dilated = cv2.dilate(thresh2,kernel,iterations = 1)\n",
        "thresh2_opened = cv2.dilate(thresh2_eroded,kernel,iterations = 1)\n",
        "\n",
        "\n",
        "plt.figure(figsize=(14,14))\n",
        "plt.subplot(1, 4, 1)\n",
        "plt.imshow(thresh2,cmap=plt.cm.gray)\n",
        "plt.title('ORIGINAL')\n",
        "plt.subplot(1, 4, 2)\n",
        "plt.imshow(thresh2_eroded,cmap=plt.cm.gray)\n",
        "plt.title('ERODED')\n",
        "plt.subplot(1, 4, 3)\n",
        "plt.imshow(thresh2_dilated,cmap=plt.cm.gray)\n",
        "plt.title('DILATED')\n",
        "plt.subplot(1, 4, 4)\n",
        "plt.imshow(thresh2_opened,cmap=plt.cm.gray)\n",
        "plt.title('OPENED: EROSION + DILATION')\n"
      ],
      "execution_count": null,
      "outputs": []
    },
    {
      "cell_type": "markdown",
      "metadata": {
        "id": "5NgrIxw0LCV6"
      },
      "source": [
        "# A First Program using OpenCV\n",
        "The objective of the first program is to implement a simple **CHROMA KEY** application. \n",
        "\n",
        "The main idea of a CHROMA is to eliminate a given colour from the image and substitute it by a different background (see Figure). Typically the green colour is used for the chroma, but other options exist.\n",
        "\n",
        "**TODO**: Implement a script to substitute the green background in the image *chroma.jpg* with the background of image *background.jpg*. Modify the former instructions and add new ones accordingly to achieve the best effect possible.\n"
      ]
    },
    {
      "cell_type": "code",
      "metadata": {
        "id": "8mWCHAv7pAdI"
      },
      "source": [
        "#TODO"
      ],
      "execution_count": null,
      "outputs": []
    }
  ]
}