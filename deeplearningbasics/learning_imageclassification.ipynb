{
  "nbformat": 4,
  "nbformat_minor": 0,
  "metadata": {
    "colab": {
      "name": "learning-imageclassification.ipynb",
      "provenance": [],
      "private_outputs": true,
      "collapsed_sections": [],
      "toc_visible": true,
      "authorship_tag": "ABX9TyN1wfbZLQIoRMp28FBWyoLm",
      "include_colab_link": true
    },
    "kernelspec": {
      "name": "python3",
      "display_name": "Python 3"
    }
  },
  "cells": [
    {
      "cell_type": "markdown",
      "metadata": {
        "id": "view-in-github",
        "colab_type": "text"
      },
      "source": [
        "<a href=\"https://colab.research.google.com/github/robotics-upo/rva-course-material/blob/master/deeplearningbasics/learning_imageclassification.ipynb\" target=\"_parent\"><img src=\"https://colab.research.google.com/assets/colab-badge.svg\" alt=\"Open In Colab\"/></a>"
      ]
    },
    {
      "cell_type": "markdown",
      "metadata": {
        "id": "3n2ul0gomSDm",
        "colab_type": "text"
      },
      "source": [
        "# Loading data"
      ]
    },
    {
      "cell_type": "markdown",
      "metadata": {
        "id": "ZutggoEPmLba",
        "colab_type": "text"
      },
      "source": [
        "With the next lines, we load the data we will use and show one example\n",
        "\n",
        "We can use OpenCV in Colab, but not the GUI functions"
      ]
    },
    {
      "cell_type": "code",
      "metadata": {
        "id": "uwPF_AnkmFGT",
        "colab_type": "code",
        "colab": {}
      },
      "source": [
        "import tensorflow as tf\n",
        "from tensorflow.keras.utils import to_categorical\n",
        "\n",
        "#Load train dataset for CIFAR10\n",
        "(x_train, y_train), (x_test, y_test) = tf.keras.datasets.cifar10.load_data()\n",
        "\n",
        "#Show one sample image\n",
        "#We can use OpenCV in Colab, but not its function imshow\n",
        "#We use matplotlib instead\n",
        "\n",
        "from matplotlib import pyplot as plt\n",
        "plt.imshow(x_test[100], cmap=plt.cm.binary)\n",
        "\n",
        "#Normalize data\n",
        "x_train = x_train.astype('float32')\n",
        "x_test = x_test.astype('float32')\n",
        "x_train /= 255\n",
        "x_test /= 255\n",
        "\n",
        "# Convert class vectors to binary class matrices.\n",
        "y_train = to_categorical(y_train, 10)\n",
        "y_test = to_categorical(y_test, 10)\n"
      ],
      "execution_count": 0,
      "outputs": []
    },
    {
      "cell_type": "markdown",
      "metadata": {
        "id": "OcoFX_umq5Kj",
        "colab_type": "text"
      },
      "source": [
        "# Creating our CNN"
      ]
    },
    {
      "cell_type": "markdown",
      "metadata": {
        "id": "wnl2Hz1nq3oU",
        "colab_type": "text"
      },
      "source": [
        "The next lines create a simple CNN"
      ]
    },
    {
      "cell_type": "code",
      "metadata": {
        "id": "Ff5Qsufnra3r",
        "colab_type": "code",
        "colab": {}
      },
      "source": [
        "model = tf.keras.Sequential()\n",
        "model.add(tf.keras.layers.Conv2D(32, (3, 3), activation='relu', padding='same',\n",
        "                 input_shape=x_train.shape[1:]))\n",
        "\n",
        "model.add(tf.keras.layers.MaxPooling2D(pool_size=(2, 2)))\n",
        "\n",
        "model.add(tf.keras.layers.Conv2D(64, (3, 3), activation='relu', padding='same'))\n",
        "model.add(tf.keras.layers.MaxPooling2D(pool_size=(2, 2)))\n",
        "\n",
        "model.add(tf.keras.layers.Flatten())\n",
        "model.add(tf.keras.layers.Dense(512, activation='relu'))\n",
        "\n",
        "model.add(tf.keras.layers.Dense(10, activation='softmax'))\n",
        "\n",
        "print(model.summary())\n"
      ],
      "execution_count": 0,
      "outputs": []
    },
    {
      "cell_type": "markdown",
      "metadata": {
        "id": "F2JOm7aZufBu",
        "colab_type": "text"
      },
      "source": [
        "# Training"
      ]
    },
    {
      "cell_type": "markdown",
      "metadata": {
        "id": "_3FvxXyVuhLL",
        "colab_type": "text"
      },
      "source": [
        "The next lines"
      ]
    },
    {
      "cell_type": "code",
      "metadata": {
        "id": "xxQ4UiVQujSp",
        "colab_type": "code",
        "colab": {}
      },
      "source": [
        "model.compile(loss=\"categorical_crossentropy\",\n",
        "              optimizer=\"sgd\",\n",
        "              metrics = ['accuracy'])\n",
        "\n",
        "_ = model.fit(x_train, y_train, epochs=10, verbose = 1)"
      ],
      "execution_count": 0,
      "outputs": []
    },
    {
      "cell_type": "markdown",
      "metadata": {
        "id": "xeYLSqKywVeN",
        "colab_type": "text"
      },
      "source": [
        "# Evaluation"
      ]
    },
    {
      "cell_type": "code",
      "metadata": {
        "id": "Nms5SjKCwZMd",
        "colab_type": "code",
        "colab": {}
      },
      "source": [
        "_ , test_acc = model.evaluate(x_test, y_test)\n",
        "\n",
        "print('Accuracy:', test_acc*100)"
      ],
      "execution_count": 0,
      "outputs": []
    },
    {
      "cell_type": "markdown",
      "metadata": {
        "id": "xskPn3GgwESq",
        "colab_type": "text"
      },
      "source": [
        "# Inference"
      ]
    },
    {
      "cell_type": "code",
      "metadata": {
        "id": "gm9Dg_MrwGHH",
        "colab_type": "code",
        "colab": {}
      },
      "source": [
        "import numpy as np\n",
        "\n",
        "prediction = model.predict(x_test)\n",
        "print(prediction[100])\n",
        "print(\"Predicción del modelo: \", np.argmax(prediction[100]) )\n",
        "\n",
        "plt.imshow(x_test[350], cmap=plt.cm.binary)\n",
        "print(prediction[350])\n",
        "print(\"Predicción del modelo: \", np.argmax(prediction[350]) )\n"
      ],
      "execution_count": 0,
      "outputs": []
    },
    {
      "cell_type": "markdown",
      "metadata": {
        "id": "Xwy3WXaj9omH",
        "colab_type": "text"
      },
      "source": [
        "# Storing the network"
      ]
    },
    {
      "cell_type": "markdown",
      "metadata": {
        "id": "L9ao3vqE9yPc",
        "colab_type": "text"
      },
      "source": [
        "We will store the network weights for future use. In this example, we will store it in Google Drive, but you can use the same functions to save the model locally.\n",
        "\n",
        "The My Drive from Google Drive is mounted at the location /content/drive of the Colab Virtual Machine"
      ]
    },
    {
      "cell_type": "code",
      "metadata": {
        "id": "WNiv4SVt9854",
        "colab_type": "code",
        "colab": {}
      },
      "source": [
        "from google.colab import drive\n",
        "drive.mount('/content/drive')\n",
        "\n"
      ],
      "execution_count": 0,
      "outputs": []
    },
    {
      "cell_type": "markdown",
      "metadata": {
        "id": "UjnCvPkX_ZzY",
        "colab_type": "text"
      },
      "source": [
        "We are goint to save the whole model. That is, the model and the resultant weights. There are other options, like saving only the weights\n",
        "\n",
        "https://www.tensorflow.org/guide/keras/save_and_serialize?hl=es\n",
        "\n"
      ]
    },
    {
      "cell_type": "code",
      "metadata": {
        "id": "YMm-fGwJ-i3a",
        "colab_type": "code",
        "colab": {}
      },
      "source": [
        "model.save('/content/drive/My Drive/colabfiles/classif.h5')"
      ],
      "execution_count": 0,
      "outputs": []
    },
    {
      "cell_type": "markdown",
      "metadata": {
        "id": "rWe9gQbfEDfm",
        "colab_type": "text"
      },
      "source": [
        "We unmount the drive. \n",
        "\n",
        "Again, these lines are not needed if you use this code locally\n",
        "\n",
        "We will learn how to use the stored model in next sessions"
      ]
    },
    {
      "cell_type": "code",
      "metadata": {
        "id": "qqmEd0nIAm3Q",
        "colab_type": "code",
        "colab": {}
      },
      "source": [
        "%ls '/content/drive/My Drive/colabfiles/'\n",
        "drive.flush_and_unmount()"
      ],
      "execution_count": 0,
      "outputs": []
    }
  ]
}